{
 "cells": [
  {
   "cell_type": "code",
   "execution_count": null,
   "metadata": {
    "id": "x-uvoPXmisuV"
   },
   "outputs": [],
   "source": [
    "import collections\n",
    "\n",
    "import networkx as nx\n",
    "import matplotlib.pyplot as plt\n",
    "import numpy as np\n",
    "import pandas as pd\n",
    "\n",
    "from powerlaw import *"
   ]
  },
  {
   "cell_type": "markdown",
   "metadata": {
    "id": "V1bMqBJmisua"
   },
   "source": [
    "# Part 0"
   ]
  },
  {
   "cell_type": "code",
   "execution_count": null,
   "metadata": {
    "id": "n0Yr395iisub"
   },
   "outputs": [],
   "source": [
    "# parse the \"blog.txt\" into graph"
   ]
  },
  {
   "cell_type": "markdown",
   "metadata": {
    "id": "mbD7mISrisub"
   },
   "source": [
    "# Part 1"
   ]
  },
  {
   "cell_type": "markdown",
   "metadata": {
    "id": "vFvFV1y6isub"
   },
   "source": [
    "## out-degree distribution"
   ]
  },
  {
   "cell_type": "code",
   "execution_count": null,
   "metadata": {
    "id": "kj-J_dvFisub"
   },
   "outputs": [],
   "source": [
    "# Plot the out-degree distribution"
   ]
  },
  {
   "cell_type": "markdown",
   "metadata": {
    "id": "IJbFT8CYisuc"
   },
   "source": [
    "### fitting without xmax"
   ]
  },
  {
   "cell_type": "code",
   "execution_count": null,
   "metadata": {
    "id": "Tb4_TpDVisuc"
   },
   "outputs": [],
   "source": [
    "#fit the out-degree distributon without xmax"
   ]
  },
  {
   "cell_type": "markdown",
   "metadata": {
    "id": "GGrTtttvisuc"
   },
   "source": [
    "### fitting wit xmax"
   ]
  },
  {
   "cell_type": "code",
   "execution_count": null,
   "metadata": {
    "id": "0jlricUyisuc"
   },
   "outputs": [],
   "source": [
    "#fit the out-degree distributon with xmax = 200"
   ]
  },
  {
   "cell_type": "markdown",
   "metadata": {
    "id": "YPln-YC0isud"
   },
   "source": [
    "## in-degree distribution"
   ]
  },
  {
   "cell_type": "code",
   "execution_count": null,
   "metadata": {
    "id": "WwpWZjugisud"
   },
   "outputs": [],
   "source": [
    "# Plot the out-degree distribution"
   ]
  },
  {
   "cell_type": "markdown",
   "metadata": {
    "id": "kjIUZZCvisud"
   },
   "source": [
    "### fitting without xmax"
   ]
  },
  {
   "cell_type": "code",
   "execution_count": null,
   "metadata": {
    "id": "FKLqtOLdisud"
   },
   "outputs": [],
   "source": [
    "# Fit the in-degree distributon without xmax"
   ]
  },
  {
   "cell_type": "markdown",
   "metadata": {
    "id": "zouKPdK8isue"
   },
   "source": [
    "### fitting with xmax"
   ]
  },
  {
   "cell_type": "code",
   "execution_count": null,
   "metadata": {
    "id": "8h_kJEp5isue"
   },
   "outputs": [],
   "source": [
    "# Fit the in-degree distributon with xmax = 300"
   ]
  },
  {
   "cell_type": "markdown",
   "metadata": {
    "id": "KxTbWM1Nisue"
   },
   "source": [
    "# Part 2"
   ]
  },
  {
   "cell_type": "markdown",
   "metadata": {
    "id": "KX79CtfNisue"
   },
   "source": [
    "## Q1"
   ]
  },
  {
   "cell_type": "code",
   "execution_count": null,
   "metadata": {
    "id": "Kz1lsQJJisue"
   },
   "outputs": [],
   "source": [
    "# Compute the Pearson correlation coefficieient"
   ]
  },
  {
   "cell_type": "markdown",
   "metadata": {
    "id": "UUnHnGucisue"
   },
   "source": [
    "Based on the result, do you think this network is assortative, disassortative or neutral? write 1-2 sentence(s) to state your conclusion and reasons."
   ]
  },
  {
   "cell_type": "markdown",
   "metadata": {
    "id": "uWR1tiFsisuf"
   },
   "source": [
    "## Q2"
   ]
  },
  {
   "cell_type": "code",
   "execution_count": null,
   "metadata": {
    "id": "HhFVVhavisuf"
   },
   "outputs": [],
   "source": [
    "# Plot the average neighbor degree as a function of the node degree k"
   ]
  },
  {
   "cell_type": "markdown",
   "metadata": {
    "id": "LZGg4xjdisuf"
   },
   "source": [
    "# Part 3"
   ]
  },
  {
   "cell_type": "markdown",
   "metadata": {
    "id": "jlvfPyYUisuf"
   },
   "source": [
    "## Q1"
   ]
  },
  {
   "cell_type": "code",
   "execution_count": null,
   "metadata": {
    "id": "uPOFjwptisuf"
   },
   "outputs": [],
   "source": [
    "# Plot the diameters of the LCC and the 100 G(n,p) networks"
   ]
  },
  {
   "cell_type": "markdown",
   "metadata": {
    "id": "cB_Gefbtisug"
   },
   "source": [
    "## Q2"
   ]
  },
  {
   "cell_type": "code",
   "execution_count": null,
   "metadata": {
    "id": "NosGchmCisug",
    "scrolled": true
   },
   "outputs": [],
   "source": [
    "# Plot the average shortest path length of the LCC and the 100 G(n,p) networks"
   ]
  },
  {
   "cell_type": "markdown",
   "metadata": {
    "id": "EjtTewUblr0o"
   },
   "source": [
    "## Q3"
   ]
  },
  {
   "cell_type": "markdown",
   "metadata": {
    "id": "jAjc6FTiisug"
   },
   "source": [
    "Use the one-sample t-test to examine if the diameter of the undirected network is significantly different than the diameter of the random networks at a 95% significance level? What about the average shortest path length?"
   ]
  },
  {
   "cell_type": "markdown",
   "metadata": {
    "id": "uhE9FCwrisug"
   },
   "source": [
    "# Part 4"
   ]
  },
  {
   "cell_type": "markdown",
   "metadata": {
    "id": "VCW5Nrldisug"
   },
   "source": [
    "## Q1"
   ]
  },
  {
   "cell_type": "code",
   "execution_count": null,
   "metadata": {
    "id": "NUcP8Wwtisuh"
   },
   "outputs": [],
   "source": [
    "# Plot the clustering coefficient of the LCC and a G(n,p) network in CCDF format"
   ]
  },
  {
   "cell_type": "markdown",
   "metadata": {
    "id": "W-6qOdw6isuh"
   },
   "source": [
    "Are the two distributions significantly different?"
   ]
  },
  {
   "cell_type": "markdown",
   "metadata": {
    "id": "ZqygYFvGisuh"
   },
   "source": [
    "## Q2"
   ]
  },
  {
   "cell_type": "code",
   "execution_count": null,
   "metadata": {
    "id": "hqkOG0PSisuh"
   },
   "outputs": [],
   "source": [
    "# Plot the average clustering coefficient as a function of the node degree"
   ]
  },
  {
   "cell_type": "markdown",
   "metadata": {
    "id": "eRSEu23disuh"
   },
   "source": [
    "What do you observe based on the above visualization?"
   ]
  },
  {
   "cell_type": "markdown",
   "metadata": {
    "id": "XJsw2zGhisuh"
   },
   "source": [
    "## Q3"
   ]
  },
  {
   "cell_type": "code",
   "execution_count": null,
   "metadata": {
    "id": "ikCMDoJvisui"
   },
   "outputs": [],
   "source": [
    "# Plot the transitivity coefficient of the overall network of the LCC and the 100 G(n,p) networks"
   ]
  },
  {
   "cell_type": "markdown",
   "metadata": {
    "id": "Dq-A0y8JmEsP"
   },
   "source": [
    "## Q4"
   ]
  },
  {
   "cell_type": "markdown",
   "metadata": {
    "id": "oKdDa6Rtisui"
   },
   "source": [
    "Combining the results of Part-3 and Part-4, can we conclude that the undirected LCC of Part-1 network is a small-world network or not? Please provide with your reasons."
   ]
  },
  {
   "cell_type": "markdown",
   "metadata": {
    "id": "fv_rSU6nisui"
   },
   "source": [
    "# Part 5"
   ]
  },
  {
   "cell_type": "code",
   "execution_count": null,
   "metadata": {
    "id": "yaFnD4Xnisui"
   },
   "outputs": [],
   "source": []
  },
  {
   "cell_type": "markdown",
   "metadata": {
    "id": "OHnqphq8isui"
   },
   "source": [
    "Which of the previous triplet types are statistically more common (or less common) in the network of the LCC compared to what we would expense based on chance?"
   ]
  },
  {
   "cell_type": "markdown",
   "metadata": {
    "id": "lndECeqi0IZ6"
   },
   "source": [
    "# Part 6"
   ]
  },
  {
   "cell_type": "markdown",
   "metadata": {
    "id": "raopWSLf0UTk"
   },
   "source": [
    "Note that the Transitivity and the Average Clustering Coefficient are two different metrics. They may often be close but there are also some extreme cases in which the two metrics give very different answers. To see that consider a network in which two nodes A and B are connected to each other as well as to every other node. There are no other links. The total number of nodes is n. What would be the transitivity and average clustering coefficient in this case (you can simplify by assuming that n is quite large)?"
   ]
  },
  {
   "cell_type": "code",
   "execution_count": null,
   "metadata": {
    "id": "j4U9efrN0JJ4"
   },
   "outputs": [],
   "source": []
  }
 ],
 "metadata": {
  "colab": {
   "name": "assignment2.ipynb",
   "provenance": []
  },
  "kernelspec": {
   "display_name": "Python 3",
   "language": "python",
   "name": "python3"
  },
  "language_info": {
   "codemirror_mode": {
    "name": "ipython",
    "version": 3
   },
   "file_extension": ".py",
   "mimetype": "text/x-python",
   "name": "python",
   "nbconvert_exporter": "python",
   "pygments_lexer": "ipython3",
   "version": "3.8.5"
  }
 },
 "nbformat": 4,
 "nbformat_minor": 1
}
